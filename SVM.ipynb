{
  "nbformat": 4,
  "nbformat_minor": 0,
  "metadata": {
    "colab": {
      "name": "SVM.ipynb",
      "version": "0.3.2",
      "provenance": [],
      "include_colab_link": true
    },
    "kernelspec": {
      "name": "python3",
      "display_name": "Python 3"
    },
    "accelerator": "GPU"
  },
  "cells": [
    {
      "cell_type": "markdown",
      "metadata": {
        "id": "view-in-github",
        "colab_type": "text"
      },
      "source": [
        "<a href=\"https://colab.research.google.com/github/RajeshwariMankar/ML-Learning/blob/master/SVM.ipynb\" target=\"_parent\"><img src=\"https://colab.research.google.com/assets/colab-badge.svg\" alt=\"Open In Colab\"/></a>"
      ]
    },
    {
      "metadata": {
        "id": "dhYPUENeB8GI",
        "colab_type": "text"
      },
      "cell_type": "markdown",
      "source": [
        "**Install PyDrive**"
      ]
    },
    {
      "metadata": {
        "id": "fJmK7qrNB0BF",
        "colab_type": "code",
        "colab": {
          "base_uri": "https://localhost:8080/",
          "height": 350
        },
        "outputId": "5eaab929-f37d-4ef5-96a7-5338896b6f8b"
      },
      "cell_type": "code",
      "source": [
        "! pip install PyDrive"
      ],
      "execution_count": 8,
      "outputs": [
        {
          "output_type": "stream",
          "text": [
            "Collecting PyDrive\n",
            "\u001b[?25l  Downloading https://files.pythonhosted.org/packages/52/e0/0e64788e5dd58ce2d6934549676243dc69d982f198524be9b99e9c2a4fd5/PyDrive-1.3.1.tar.gz (987kB)\n",
            "\r\u001b[K    1% |▎                               | 10kB 16.9MB/s eta 0:00:01\r\u001b[K    2% |▋                               | 20kB 1.8MB/s eta 0:00:01\r\u001b[K    3% |█                               | 30kB 2.6MB/s eta 0:00:01\r\u001b[K    4% |█▎                              | 40kB 1.7MB/s eta 0:00:01\r\u001b[K    5% |█▋                              | 51kB 2.1MB/s eta 0:00:01\r\u001b[K    6% |██                              | 61kB 2.5MB/s eta 0:00:01\r\u001b[K    7% |██▎                             | 71kB 2.8MB/s eta 0:00:01\r\u001b[K    8% |██▋                             | 81kB 3.2MB/s eta 0:00:01\r\u001b[K    9% |███                             | 92kB 2.5MB/s eta 0:00:01\r\u001b[K    10% |███▎                            | 102kB 2.7MB/s eta 0:00:01\r\u001b[K    11% |███▋                            | 112kB 2.8MB/s eta 0:00:01\r\u001b[K    12% |████                            | 122kB 3.9MB/s eta 0:00:01\r\u001b[K    13% |████▎                           | 133kB 3.9MB/s eta 0:00:01\r\u001b[K    14% |████▋                           | 143kB 7.3MB/s eta 0:00:01\r\u001b[K    15% |█████                           | 153kB 7.4MB/s eta 0:00:01\r\u001b[K    16% |█████▎                          | 163kB 7.4MB/s eta 0:00:01\r\u001b[K    17% |█████▋                          | 174kB 7.4MB/s eta 0:00:01\r\u001b[K    18% |██████                          | 184kB 7.4MB/s eta 0:00:01\r\u001b[K    19% |██████▎                         | 194kB 44.2MB/s eta 0:00:01\r\u001b[K    20% |██████▋                         | 204kB 43.8MB/s eta 0:00:01\r\u001b[K    21% |███████                         | 215kB 8.4MB/s eta 0:00:01\r\u001b[K    22% |███████▎                        | 225kB 8.3MB/s eta 0:00:01\r\u001b[K    23% |███████▋                        | 235kB 8.4MB/s eta 0:00:01\r\u001b[K    24% |████████                        | 245kB 8.4MB/s eta 0:00:01\r\u001b[K    25% |████████▎                       | 256kB 8.4MB/s eta 0:00:01\r\u001b[K    26% |████████▋                       | 266kB 8.2MB/s eta 0:00:01\r\u001b[K    27% |█████████                       | 276kB 8.3MB/s eta 0:00:01\r\u001b[K    29% |█████████▎                      | 286kB 8.4MB/s eta 0:00:01\r\u001b[K    30% |█████████▋                      | 296kB 8.3MB/s eta 0:00:01\r\u001b[K    31% |██████████                      | 307kB 8.4MB/s eta 0:00:01\r\u001b[K    32% |██████████▎                     | 317kB 43.4MB/s eta 0:00:01\r\u001b[K    33% |██████████▋                     | 327kB 44.5MB/s eta 0:00:01\r\u001b[K    34% |███████████                     | 337kB 8.4MB/s eta 0:00:01\r\u001b[K    35% |███████████▎                    | 348kB 8.1MB/s eta 0:00:01\r\u001b[K    36% |███████████▋                    | 358kB 8.1MB/s eta 0:00:01\r\u001b[K    37% |████████████                    | 368kB 8.2MB/s eta 0:00:01\r\u001b[K    38% |████████████▎                   | 378kB 8.2MB/s eta 0:00:01\r\u001b[K    39% |████████████▋                   | 389kB 8.2MB/s eta 0:00:01\r\u001b[K    40% |█████████████                   | 399kB 8.3MB/s eta 0:00:01\r\u001b[K    41% |█████████████▎                  | 409kB 8.3MB/s eta 0:00:01\r\u001b[K    42% |█████████████▋                  | 419kB 8.3MB/s eta 0:00:01\r\u001b[K    43% |██████████████                  | 430kB 8.3MB/s eta 0:00:01\r\u001b[K    44% |██████████████▎                 | 440kB 42.0MB/s eta 0:00:01\r\u001b[K    45% |██████████████▋                 | 450kB 49.2MB/s eta 0:00:01\r\u001b[K    46% |███████████████                 | 460kB 48.2MB/s eta 0:00:01\r\u001b[K    47% |███████████████▎                | 471kB 48.2MB/s eta 0:00:01\r\u001b[K    48% |███████████████▋                | 481kB 49.1MB/s eta 0:00:01\r\u001b[K    49% |████████████████                | 491kB 48.6MB/s eta 0:00:01\r\u001b[K    50% |████████████████▎               | 501kB 48.9MB/s eta 0:00:01\r\u001b[K    51% |████████████████▋               | 512kB 46.1MB/s eta 0:00:01\r\u001b[K    52% |█████████████████               | 522kB 47.0MB/s eta 0:00:01\r\u001b[K    53% |█████████████████▎              | 532kB 48.5MB/s eta 0:00:01\r\u001b[K    54% |█████████████████▋              | 542kB 48.9MB/s eta 0:00:01\r\u001b[K    55% |██████████████████              | 552kB 51.7MB/s eta 0:00:01\r\u001b[K    57% |██████████████████▎             | 563kB 53.9MB/s eta 0:00:01\r\u001b[K    58% |██████████████████▋             | 573kB 55.1MB/s eta 0:00:01\r\u001b[K    59% |███████████████████             | 583kB 55.1MB/s eta 0:00:01\r\u001b[K    60% |███████████████████▎            | 593kB 55.6MB/s eta 0:00:01\r\u001b[K    61% |███████████████████▋            | 604kB 55.2MB/s eta 0:00:01\r\u001b[K    62% |████████████████████            | 614kB 58.1MB/s eta 0:00:01\r\u001b[K    63% |████████████████████▎           | 624kB 56.6MB/s eta 0:00:01\r\u001b[K    64% |████████████████████▋           | 634kB 54.5MB/s eta 0:00:01\r\u001b[K    65% |█████████████████████           | 645kB 12.4MB/s eta 0:00:01\r\u001b[K    66% |█████████████████████▎          | 655kB 12.2MB/s eta 0:00:01\r\u001b[K    67% |█████████████████████▋          | 665kB 11.5MB/s eta 0:00:01\r\u001b[K    68% |██████████████████████          | 675kB 11.5MB/s eta 0:00:01\r\u001b[K    69% |██████████████████████▎         | 686kB 11.5MB/s eta 0:00:01\r\u001b[K    70% |██████████████████████▋         | 696kB 11.5MB/s eta 0:00:01\r\u001b[K    71% |███████████████████████         | 706kB 11.4MB/s eta 0:00:01\r\u001b[K    72% |███████████████████████▎        | 716kB 11.5MB/s eta 0:00:01\r\u001b[K    73% |███████████████████████▋        | 727kB 11.5MB/s eta 0:00:01\r\u001b[K    74% |████████████████████████        | 737kB 11.6MB/s eta 0:00:01\r\u001b[K    75% |████████████████████████▎       | 747kB 41.3MB/s eta 0:00:01\r\u001b[K    76% |████████████████████████▋       | 757kB 42.1MB/s eta 0:00:01\r\u001b[K    77% |████████████████████████▉       | 768kB 53.4MB/s eta 0:00:01\r\u001b[K    78% |█████████████████████████▏      | 778kB 52.8MB/s eta 0:00:01\r\u001b[K    79% |█████████████████████████▌      | 788kB 50.9MB/s eta 0:00:01\r\u001b[K    80% |█████████████████████████▉      | 798kB 51.0MB/s eta 0:00:01\r\u001b[K    81% |██████████████████████████▏     | 808kB 51.6MB/s eta 0:00:01\r\u001b[K    82% |██████████████████████████▌     | 819kB 51.8MB/s eta 0:00:01\r\u001b[K    83% |██████████████████████████▉     | 829kB 51.8MB/s eta 0:00:01\r\u001b[K    85% |███████████████████████████▏    | 839kB 51.5MB/s eta 0:00:01\r\u001b[K    86% |███████████████████████████▌    | 849kB 51.7MB/s eta 0:00:01\r\u001b[K    87% |███████████████████████████▉    | 860kB 47.6MB/s eta 0:00:01\r\u001b[K    88% |████████████████████████████▏   | 870kB 47.8MB/s eta 0:00:01\r\u001b[K    89% |████████████████████████████▌   | 880kB 48.8MB/s eta 0:00:01\r\u001b[K    90% |████████████████████████████▉   | 890kB 50.6MB/s eta 0:00:01\r\u001b[K    91% |█████████████████████████████▏  | 901kB 51.1MB/s eta 0:00:01\r\u001b[K    92% |█████████████████████████████▌  | 911kB 51.5MB/s eta 0:00:01\r\u001b[K    93% |█████████████████████████████▉  | 921kB 50.3MB/s eta 0:00:01\r\u001b[K    94% |██████████████████████████████▏ | 931kB 50.4MB/s eta 0:00:01\r\u001b[K    95% |██████████████████████████████▌ | 942kB 49.6MB/s eta 0:00:01\r\u001b[K    96% |██████████████████████████████▉ | 952kB 49.4MB/s eta 0:00:01\r\u001b[K    97% |███████████████████████████████▏| 962kB 54.7MB/s eta 0:00:01\r\u001b[K    98% |███████████████████████████████▌| 972kB 53.4MB/s eta 0:00:01\r\u001b[K    99% |███████████████████████████████▉| 983kB 52.0MB/s eta 0:00:01\r\u001b[K    100% |████████████████████████████████| 993kB 19.9MB/s \n",
            "\u001b[?25hRequirement already satisfied: google-api-python-client>=1.2 in /usr/local/lib/python3.6/dist-packages (from PyDrive) (1.6.7)\n",
            "Requirement already satisfied: oauth2client>=4.0.0 in /usr/local/lib/python3.6/dist-packages (from PyDrive) (4.1.3)\n",
            "Requirement already satisfied: PyYAML>=3.0 in /usr/local/lib/python3.6/dist-packages (from PyDrive) (3.13)\n",
            "Requirement already satisfied: six<2dev,>=1.6.1 in /usr/local/lib/python3.6/dist-packages (from google-api-python-client>=1.2->PyDrive) (1.11.0)\n",
            "Requirement already satisfied: httplib2<1dev,>=0.9.2 in /usr/local/lib/python3.6/dist-packages (from google-api-python-client>=1.2->PyDrive) (0.11.3)\n",
            "Requirement already satisfied: uritemplate<4dev,>=3.0.0 in /usr/local/lib/python3.6/dist-packages (from google-api-python-client>=1.2->PyDrive) (3.0.0)\n",
            "Requirement already satisfied: pyasn1>=0.1.7 in /usr/local/lib/python3.6/dist-packages (from oauth2client>=4.0.0->PyDrive) (0.4.5)\n",
            "Requirement already satisfied: pyasn1-modules>=0.0.5 in /usr/local/lib/python3.6/dist-packages (from oauth2client>=4.0.0->PyDrive) (0.2.3)\n",
            "Requirement already satisfied: rsa>=3.1.4 in /usr/local/lib/python3.6/dist-packages (from oauth2client>=4.0.0->PyDrive) (4.0)\n",
            "Building wheels for collected packages: PyDrive\n",
            "  Running setup.py bdist_wheel for PyDrive ... \u001b[?25l-\b \b\\\b \bdone\n",
            "\u001b[?25h  Stored in directory: /root/.cache/pip/wheels/fa/d2/9a/d3b6b506c2da98289e5d417215ce34b696db856643bad779f4\n",
            "Successfully built PyDrive\n",
            "Installing collected packages: PyDrive\n",
            "Successfully installed PyDrive-1.3.1\n"
          ],
          "name": "stdout"
        }
      ]
    },
    {
      "metadata": {
        "id": "f2nJ0p0VCBtY",
        "colab_type": "code",
        "colab": {}
      },
      "cell_type": "code",
      "source": [
        "from pydrive.drive import GoogleDrive\n",
        "from pydrive.auth import GoogleAuth\n",
        "from pydrive.drive import GoogleDrive\n",
        "from google.colab import auth\n",
        "from oauth2client.client import GoogleCredentials\n",
        "\n",
        "# Authenticate and create the PyDrive client.\n",
        "auth.authenticate_user()\n",
        "gauth = GoogleAuth()\n",
        "gauth.credentials = GoogleCredentials.get_application_default()\n",
        "drive = GoogleDrive(gauth)\n"
      ],
      "execution_count": 0,
      "outputs": []
    },
    {
      "metadata": {
        "id": "Wa4Jhoz5CgQS",
        "colab_type": "text"
      },
      "cell_type": "markdown",
      "source": [
        "**Get the list of files and their respective ids**"
      ]
    },
    {
      "metadata": {
        "id": "q1NjbGUbCevz",
        "colab_type": "code",
        "colab": {
          "base_uri": "https://localhost:8080/",
          "height": 382
        },
        "outputId": "e70971f1-9192-4a47-d611-63bb3124f1f7"
      },
      "cell_type": "code",
      "source": [
        "file_list = drive.ListFile({'q': \"'root' in parents and trashed=false\"}).GetList()\n",
        "for file1 in file_list:\n",
        "  print('title: %s, id: %s' % (file1['title'], file1['id']))"
      ],
      "execution_count": 10,
      "outputs": [
        {
          "output_type": "stream",
          "text": [
            "title: Digit_Dataset.zip, id: 16FMaIQBmrXZWVUGTxyuBYvvrxaqHHNIK\n",
            "title: Untitled document, id: 1zGZWVU4PLX_-bWXP6coj9yf3Nh_O_nwX5uDk5goIL8o\n",
            "title: Resume, id: 1NwjUrmHGh_Dt39M2-v7TXqQTqTPZycUj_sgXo9SvtVs\n",
            "title: Untitled document, id: 1dCYN0NntH_8uHu1pNdl3awabXXIxY6Z4w2urNytxceA\n",
            "title: Resume, id: 1I1YNt_IsnBE0M9wpxs-pJ9WrKHMHhGb0kULfBdnlzGk\n",
            "title: Resume, id: 1Cs3Mn0KogPVdAG_IKGsrB8jw7as4mZp-Mc0XPYyIrko\n",
            "title: Classifier.zip, id: 1I3xf9I0Snz_blVtE21L6pQbS-hVOPQJt\n",
            "title: Untitled0.ipynb, id: 1X9tZ8r2QAi1-wzW-hEQOT4fkck6jxflr\n",
            "title: Colab Notebooks, id: 1k5PSTWbW6iUE_lLvv8bCWZtpkwqLDXfc\n",
            "title: WBC.zip, id: 1bqfWydpEeAVsmmQMDH_ij6ox6l-oFrxa\n",
            "title: WBC.zip, id: 183TnHeAuJ81qjt-hhgohsRhTYRlCekQ1\n",
            "title: WBC.zip, id: 1v7FjpEvExwBDU82UmF4MDhaTzg-nSdKq\n",
            "title: TimeSheet, id: 1zkkGJN-k5PCNUsLlUHMekmhzaqwBtM3rWUBZGL6jSSk\n",
            "title: companies_targeting_healthcare.doc, id: 0B97e4yRhem0ueVhNMzRJdGI5YzVDa0FXc2RDcEFLOGZCeWpJ\n",
            "title: Cropped images.zip, id: 1COtHZp8haWllCEHKvFfu8c6O56R_MY2f\n",
            "title: Cropped images.zip, id: 1PSdGyCBxv1wCsOvywEGgBf1Csb29YJQ_\n",
            "title: Meeting notes.pdf, id: 0B97e4yRhem0uaWp3ai14cmtQY2Z6akFkdXZtN1l0ODZLbjZn\n",
            "title: Rajeshwari_Resume.pdf, id: 0B97e4yRhem0uMHUyS0VrUERDeFNEMGN5RXNkUlBvUUViWnNj\n",
            "title: PER, id: 1uBkfhb8amsYCk-YqtV8rMMf0u0fE_TgE\n",
            "title: mankar nationliti.pdf, id: 0B97e4yRhem0uYnRqUmE2cDVtcWhtY3ZOajFENUNqQkNNNlow\n",
            "title: Getting started, id: 0B97e4yRhem0uc3RhcnRlcl9maWxl\n"
          ],
          "name": "stdout"
        }
      ]
    },
    {
      "metadata": {
        "id": "O-1wBAYTC5EZ",
        "colab_type": "text"
      },
      "cell_type": "markdown",
      "source": [
        "**Get the file using its id**"
      ]
    },
    {
      "metadata": {
        "id": "y6gTGxG1DFEH",
        "colab_type": "code",
        "colab": {}
      },
      "cell_type": "code",
      "source": [
        "f = drive.CreateFile({'id': '16FMaIQBmrXZWVUGTxyuBYvvrxaqHHNIK'})\n",
        "f.GetContentFile('Digit_Dataset.zip')"
      ],
      "execution_count": 0,
      "outputs": []
    },
    {
      "metadata": {
        "id": "ZDDWGCO-DPR0",
        "colab_type": "text"
      },
      "cell_type": "markdown",
      "source": [
        "**Unzip the file**"
      ]
    },
    {
      "metadata": {
        "id": "Xm-7dqggDSne",
        "colab_type": "code",
        "colab": {
          "base_uri": "https://localhost:8080/",
          "height": 156
        },
        "outputId": "456adf28-b2db-4455-bb4e-62499dd5483e"
      },
      "cell_type": "code",
      "source": [
        "!unzip Digit_Dataset.zip -d /"
      ],
      "execution_count": 12,
      "outputs": [
        {
          "output_type": "stream",
          "text": [
            "Archive:  Digit_Dataset.zip\n",
            "   creating: /Digit_Dataset/\n",
            "   creating: /Digit_Dataset/training_set/\n",
            "  inflating: /Digit_Dataset/training_set/train-images-idx3-ubyte  \n",
            "  inflating: /Digit_Dataset/training_set/train-labels-idx1-ubyte  \n",
            "   creating: /Digit_Dataset/test_set/\n",
            "  inflating: /Digit_Dataset/test_set/t10k-images-idx3-ubyte  \n",
            "  inflating: /Digit_Dataset/test_set/t10k-labels-idx1-ubyte  \n"
          ],
          "name": "stdout"
        }
      ]
    },
    {
      "metadata": {
        "id": "7UBA8A49DYSF",
        "colab_type": "text"
      },
      "cell_type": "markdown",
      "source": [
        "**Import libraries**"
      ]
    },
    {
      "metadata": {
        "id": "GbXEktsIDeGk",
        "colab_type": "code",
        "colab": {}
      },
      "cell_type": "code",
      "source": [
        "import struct\n",
        "import numpy as np\n",
        "from sklearn import svm\n",
        "from sklearn import neighbors,metrics\n",
        "from sklearn.metrics import classification_report, confusion_matrix,accuracy_score\n",
        "import matplotlib.pyplot as plt"
      ],
      "execution_count": 0,
      "outputs": []
    },
    {
      "metadata": {
        "id": "xHnNyWG7DlGH",
        "colab_type": "text"
      },
      "cell_type": "markdown",
      "source": [
        "**Read idx files and convert it to numpy array**"
      ]
    },
    {
      "metadata": {
        "id": "L6gMpihZDm14",
        "colab_type": "code",
        "colab": {}
      },
      "cell_type": "code",
      "source": [
        "def read_idx(filename):\n",
        "    with open(filename,'rb') as f:\n",
        "        zero,data_type,dims = struct.unpack('>HBB',f.read(4))\n",
        "        shape = tuple(struct.unpack('>I',f.read(4))[0] for d in range(dims))\n",
        "        return np.frombuffer(f.read(), dtype = np.uint8).reshape(shape)"
      ],
      "execution_count": 0,
      "outputs": []
    },
    {
      "metadata": {
        "id": "Bfu9Cc1eEBo0",
        "colab_type": "text"
      },
      "cell_type": "markdown",
      "source": [
        "**Get the features and labels for training**"
      ]
    },
    {
      "metadata": {
        "id": "p3LuVgx5EGTn",
        "colab_type": "code",
        "colab": {
          "base_uri": "https://localhost:8080/",
          "height": 121
        },
        "outputId": "e1087c6d-9641-4a53-ed3a-d78fc16f2c0f"
      },
      "cell_type": "code",
      "source": [
        "train = read_idx(\"/Digit_Dataset/training_set/train-images-idx3-ubyte\")\n",
        "print(train.shape)\n",
        "#train = np.asarray(train)\n",
        "\n",
        "train = train/255.0\n",
        "train_features = train.reshape((len(train),-1))\n",
        "print(train_features.shape)\n",
        "train_labels = read_idx(\"/Digit_Dataset/training_set/train-labels-idx1-ubyte\")\n",
        "print(train_labels.shape)\n",
        "\n",
        "\n",
        "test = read_idx(\"/Digit_Dataset/test_set/t10k-images-idx3-ubyte\")\n",
        "print(test.shape)\n",
        "test = test/255.0\n",
        "test_features = test.reshape((len(test), -1))\n",
        "print(test_features.shape)\n",
        "test_labels = read_idx(\"/Digit_Dataset/test_set/t10k-labels-idx1-ubyte\")\n",
        "print(test_labels.shape)"
      ],
      "execution_count": 15,
      "outputs": [
        {
          "output_type": "stream",
          "text": [
            "(60000, 28, 28)\n",
            "(60000, 784)\n",
            "(60000,)\n",
            "(10000, 28, 28)\n",
            "(10000, 784)\n",
            "(10000,)\n"
          ],
          "name": "stdout"
        }
      ]
    },
    {
      "metadata": {
        "id": "891dABgAEK_u",
        "colab_type": "text"
      },
      "cell_type": "markdown",
      "source": [
        "**Train the SVM Classifier**"
      ]
    },
    {
      "metadata": {
        "id": "bzlNgXomEPH1",
        "colab_type": "code",
        "colab": {
          "base_uri": "https://localhost:8080/",
          "height": 86
        },
        "outputId": "e2e5acf2-3cf0-4db1-8416-a9045c3e0cb4"
      },
      "cell_type": "code",
      "source": [
        "# SVM with RBF Kernel\n",
        "rbf_svc = svm.SVC(kernel='rbf', gamma=0.05, C=5)\n",
        "rbf_svc.fit(train_features,train_labels)"
      ],
      "execution_count": 16,
      "outputs": [
        {
          "output_type": "execute_result",
          "data": {
            "text/plain": [
              "SVC(C=5, cache_size=200, class_weight=None, coef0=0.0,\n",
              "  decision_function_shape='ovr', degree=3, gamma=0.05, kernel='rbf',\n",
              "  max_iter=-1, probability=False, random_state=None, shrinking=True,\n",
              "  tol=0.001, verbose=False)"
            ]
          },
          "metadata": {
            "tags": []
          },
          "execution_count": 16
        }
      ]
    },
    {
      "metadata": {
        "id": "uoiDYnj8EsPT",
        "colab_type": "text"
      },
      "cell_type": "markdown",
      "source": [
        "**Make Prediction**"
      ]
    },
    {
      "metadata": {
        "id": "OgTMfSbJE1uy",
        "colab_type": "code",
        "colab": {}
      },
      "cell_type": "code",
      "source": [
        "prediction = rbf_svc.predict(test_features)"
      ],
      "execution_count": 0,
      "outputs": []
    },
    {
      "metadata": {
        "id": "PnX_YPZIFFH2",
        "colab_type": "text"
      },
      "cell_type": "markdown",
      "source": [
        "**Check the Performance of Classifier**"
      ]
    },
    {
      "metadata": {
        "id": "a0WWkX10FNaD",
        "colab_type": "code",
        "colab": {
          "base_uri": "https://localhost:8080/",
          "height": 486
        },
        "outputId": "c39cd56b-0e67-42c0-add0-fc7ae8d7284d"
      },
      "cell_type": "code",
      "source": [
        "print(confusion_matrix(test_labels, prediction))  \n",
        "print(classification_report(test_labels, prediction)) "
      ],
      "execution_count": 12,
      "outputs": [
        {
          "output_type": "stream",
          "text": [
            "[[ 973    0    1    0    0    2    1    1    2    0]\n",
            " [   0 1127    3    1    0    1    0    1    2    0]\n",
            " [   4    0 1015    0    1    0    0    6    6    0]\n",
            " [   0    0    2  995    0    3    0    6    4    0]\n",
            " [   0    0    3    0  966    0    4    0    2    7]\n",
            " [   2    0    0    5    1  878    2    1    2    1]\n",
            " [   4    2    0    0    2    3  946    0    1    0]\n",
            " [   0    3   10    1    1    0    0 1004    2    7]\n",
            " [   1    0    1    4    1    2    0    2  960    3]\n",
            " [   3    3    2    6    9    2    0    5    6  973]]\n",
            "              precision    recall  f1-score   support\n",
            "\n",
            "           0       0.99      0.99      0.99       980\n",
            "           1       0.99      0.99      0.99      1135\n",
            "           2       0.98      0.98      0.98      1032\n",
            "           3       0.98      0.99      0.98      1010\n",
            "           4       0.98      0.98      0.98       982\n",
            "           5       0.99      0.98      0.98       892\n",
            "           6       0.99      0.99      0.99       958\n",
            "           7       0.98      0.98      0.98      1028\n",
            "           8       0.97      0.99      0.98       974\n",
            "           9       0.98      0.96      0.97      1009\n",
            "\n",
            "   micro avg       0.98      0.98      0.98     10000\n",
            "   macro avg       0.98      0.98      0.98     10000\n",
            "weighted avg       0.98      0.98      0.98     10000\n",
            "\n"
          ],
          "name": "stdout"
        }
      ]
    },
    {
      "metadata": {
        "id": "SOsSRSIFFT8c",
        "colab_type": "text"
      },
      "cell_type": "markdown",
      "source": [
        "**Check the train and test accuracy**"
      ]
    },
    {
      "metadata": {
        "id": "-O5VBILyG7GX",
        "colab_type": "code",
        "colab": {
          "base_uri": "https://localhost:8080/",
          "height": 34
        },
        "outputId": "e5297b23-13da-475d-c699-fbba4dc945c5"
      },
      "cell_type": "code",
      "source": [
        "print(accuracy_score(prediction, test_labels))"
      ],
      "execution_count": 15,
      "outputs": [
        {
          "output_type": "stream",
          "text": [
            "0.9837\n"
          ],
          "name": "stdout"
        }
      ]
    }
  ]
}